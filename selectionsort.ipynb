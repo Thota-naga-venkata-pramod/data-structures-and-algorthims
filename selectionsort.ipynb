{
  "nbformat": 4,
  "nbformat_minor": 0,
  "metadata": {
    "colab": {
      "provenance": [],
      "authorship_tag": "ABX9TyN89EoUNO+gB5gkr8NDeC/r",
      "include_colab_link": true
    },
    "kernelspec": {
      "name": "python3",
      "display_name": "Python 3"
    },
    "language_info": {
      "name": "python"
    }
  },
  "cells": [
    {
      "cell_type": "markdown",
      "metadata": {
        "id": "view-in-github",
        "colab_type": "text"
      },
      "source": [
        "<a href=\"https://colab.research.google.com/github/Thota-naga-venkata-pramod/data-structures-and-algorthims/blob/me/selectionsort.ipynb\" target=\"_parent\"><img src=\"https://colab.research.google.com/assets/colab-badge.svg\" alt=\"Open In Colab\"/></a>"
      ]
    },
    {
      "cell_type": "code",
      "execution_count": 8,
      "metadata": {
        "colab": {
          "base_uri": "https://localhost:8080/"
        },
        "id": "YxccotV2u8g4",
        "outputId": "2897e68a-d596-4b2b-b2fd-580c98a3213a"
      },
      "outputs": [
        {
          "output_type": "stream",
          "name": "stdout",
          "text": [
            "[13, 23, 23, 45, 45, 67, 88, 89, 98, 999]\n"
          ]
        }
      ],
      "source": [
        "l=[23,45,23,13,45,89,67,98,88,999]\n",
        "def selectionsort(l):\n",
        "  for start in range(len(l)):\n",
        "   minpos=start\n",
        "   for i in range(start,len(l)):\n",
        "    if l[i]<l[minpos]:\n",
        "      minpos=i\n",
        "   (l[start],l[minpos])=(l[minpos],l[start])   \n",
        "selectionsort(l)\n",
        "print(l)"
      ]
    }
  ]
}