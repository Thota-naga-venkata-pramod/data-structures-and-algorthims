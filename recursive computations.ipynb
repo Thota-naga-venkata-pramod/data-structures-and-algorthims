{
  "nbformat": 4,
  "nbformat_minor": 0,
  "metadata": {
    "colab": {
      "provenance": [],
      "authorship_tag": "ABX9TyPxrUeKCEgBkrPD+CHn0mwL",
      "include_colab_link": true
    },
    "kernelspec": {
      "name": "python3",
      "display_name": "Python 3"
    },
    "language_info": {
      "name": "python"
    }
  },
  "cells": [
    {
      "cell_type": "markdown",
      "metadata": {
        "id": "view-in-github",
        "colab_type": "text"
      },
      "source": [
        "<a href=\"https://colab.research.google.com/github/Thota-naga-venkata-pramod/data-structures-and-algorthims/blob/me/recursive%20computations.ipynb\" target=\"_parent\"><img src=\"https://colab.research.google.com/assets/colab-badge.svg\" alt=\"Open In Colab\"/></a>"
      ]
    },
    {
      "cell_type": "markdown",
      "source": [
        "#recursive computations\n",
        "\n",
        "depends on inductive definition \n",
        "\n",
        "#inductive definition\n",
        "\n",
        "define one or more base cases\n",
        "\n",
        "inductive step defines f(n) in terms of smaller arguments\n",
        "\n",
        "inductive definitions gives rise to recursive programs"
      ],
      "metadata": {
        "id": "3zJ2UBDp28aA"
      }
    },
    {
      "cell_type": "code",
      "source": [
        "#for a factorial\n",
        "def factorial(n):\n",
        "  if n==0:\n",
        "    return 1\n",
        "  else:\n",
        "    return(n*factorial(n-1))\n",
        "factorial(4)\n"
      ],
      "metadata": {
        "colab": {
          "base_uri": "https://localhost:8080/"
        },
        "id": "1IJ04-sN3AVQ",
        "outputId": "303fb04c-fa37-4b02-d250-4dbdcd654c36"
      },
      "execution_count": 3,
      "outputs": [
        {
          "output_type": "execute_result",
          "data": {
            "text/plain": [
              "24"
            ]
          },
          "metadata": {},
          "execution_count": 3
        }
      ]
    },
    {
      "cell_type": "code",
      "source": [
        "#for multiplication\n",
        "def multiply(m,n):\n",
        "  if n==1:\n",
        "    return(m)\n",
        "  else:\n",
        "    return(m+multiply(m,n-1))\n",
        "multiply(4,3)"
      ],
      "metadata": {
        "colab": {
          "base_uri": "https://localhost:8080/"
        },
        "id": "Vg6LEpqR3o_T",
        "outputId": "48c43ea1-822a-42dc-bb03-059b2e696f12"
      },
      "execution_count": 4,
      "outputs": [
        {
          "output_type": "execute_result",
          "data": {
            "text/plain": [
              "12"
            ]
          },
          "metadata": {},
          "execution_count": 4
        }
      ]
    },
    {
      "cell_type": "code",
      "source": [
        "#for length of a list\n",
        "l=[34,4,5,6,7]\n",
        "def length(l):\n",
        "  if l==[]:\n",
        "    return(0)\n",
        "  else:\n",
        "    return(1+length(l[1:]))\n",
        "length(l)"
      ],
      "metadata": {
        "colab": {
          "base_uri": "https://localhost:8080/"
        },
        "id": "16MriDad4HJP",
        "outputId": "edf16071-03bb-4053-b066-435eb750172e"
      },
      "execution_count": 9,
      "outputs": [
        {
          "output_type": "execute_result",
          "data": {
            "text/plain": [
              "5"
            ]
          },
          "metadata": {},
          "execution_count": 9
        }
      ]
    },
    {
      "cell_type": "code",
      "source": [
        "#for sum of lists in a number\n",
        "l=[3,4,56,87,9,]\n",
        "def sumlist(l):\n",
        "  if l==[]:\n",
        "    return 0\n",
        "  else:\n",
        "    return(l[0]+sumlist(l[1:]))\n",
        "sumlist(l) "
      ],
      "metadata": {
        "colab": {
          "base_uri": "https://localhost:8080/"
        },
        "id": "ecfImVi15C3U",
        "outputId": "615aa4fe-d617-4a9e-bd92-32af98268cab"
      },
      "execution_count": 10,
      "outputs": [
        {
          "output_type": "execute_result",
          "data": {
            "text/plain": [
              "159"
            ]
          },
          "metadata": {},
          "execution_count": 10
        }
      ]
    }
  ]
}