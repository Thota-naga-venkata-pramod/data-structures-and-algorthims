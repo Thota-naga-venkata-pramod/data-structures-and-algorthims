{
  "nbformat": 4,
  "nbformat_minor": 0,
  "metadata": {
    "colab": {
      "provenance": [],
      "authorship_tag": "ABX9TyN33Djd721qU37S1xgZbPms",
      "include_colab_link": true
    },
    "kernelspec": {
      "name": "python3",
      "display_name": "Python 3"
    },
    "language_info": {
      "name": "python"
    }
  },
  "cells": [
    {
      "cell_type": "markdown",
      "metadata": {
        "id": "view-in-github",
        "colab_type": "text"
      },
      "source": [
        "<a href=\"https://colab.research.google.com/github/Thota-naga-venkata-pramod/data-structures-and-algorthims/blob/me/python_basics.ipynb\" target=\"_parent\"><img src=\"https://colab.research.google.com/assets/colab-badge.svg\" alt=\"Open In Colab\"/></a>"
      ]
    },
    {
      "cell_type": "code",
      "execution_count": null,
      "metadata": {
        "colab": {
          "base_uri": "https://localhost:8080/"
        },
        "id": "KQ0vvGZEAm3C",
        "outputId": "ab8cb8de-4602-4d8e-e365-db76217f952c"
      },
      "outputs": [
        {
          "output_type": "execute_result",
          "data": {
            "text/plain": [
              "5"
            ]
          },
          "metadata": {},
          "execution_count": 1
        }
      ],
      "source": [
        "2+3\n"
      ]
    },
    {
      "cell_type": "code",
      "source": [
        "\"navin\"\n"
      ],
      "metadata": {
        "colab": {
          "base_uri": "https://localhost:8080/",
          "height": 36
        },
        "id": "BmHQzdQEA0s7",
        "outputId": "7b471428-67cd-4846-a6b2-47f351b3c473"
      },
      "execution_count": null,
      "outputs": [
        {
          "output_type": "execute_result",
          "data": {
            "text/plain": [
              "'navin'"
            ],
            "application/vnd.google.colaboratory.intrinsic+json": {
              "type": "string"
            }
          },
          "metadata": {},
          "execution_count": 5
        }
      ]
    },
    {
      "cell_type": "code",
      "source": [
        "print(\"pramod\")"
      ],
      "metadata": {
        "colab": {
          "base_uri": "https://localhost:8080/"
        },
        "id": "WIMpg6s6BQMq",
        "outputId": "af1c309a-6ff6-4bfc-c939-fc933daade52"
      },
      "execution_count": null,
      "outputs": [
        {
          "output_type": "stream",
          "name": "stdout",
          "text": [
            "pramod\n"
          ]
        }
      ]
    },
    {
      "cell_type": "code",
      "source": [
        "\"thota\"+\" \"+\"naga venkata pramod\""
      ],
      "metadata": {
        "colab": {
          "base_uri": "https://localhost:8080/",
          "height": 36
        },
        "id": "vWeGY77kBWDm",
        "outputId": "79d5fe65-8a6f-40a2-c554-c7e4ee118c8b"
      },
      "execution_count": null,
      "outputs": [
        {
          "output_type": "execute_result",
          "data": {
            "text/plain": [
              "'thota naga venkata pramod'"
            ],
            "application/vnd.google.colaboratory.intrinsic+json": {
              "type": "string"
            }
          },
          "metadata": {},
          "execution_count": 11
        }
      ]
    },
    {
      "cell_type": "code",
      "source": [
        "print(\"\\naveen\")"
      ],
      "metadata": {
        "colab": {
          "base_uri": "https://localhost:8080/"
        },
        "id": "xp1OdbgmCqih",
        "outputId": "a5156c50-a4ba-4abb-be26-daadd4b4fe73"
      },
      "execution_count": null,
      "outputs": [
        {
          "output_type": "stream",
          "name": "stdout",
          "text": [
            "\n",
            "aveen\n"
          ]
        }
      ]
    },
    {
      "cell_type": "code",
      "source": [
        "print(r\"\\naveen\")             #where r is raw string which don't care for any rule in python"
      ],
      "metadata": {
        "colab": {
          "base_uri": "https://localhost:8080/"
        },
        "id": "GPJkyftYCwtH",
        "outputId": "614ece18-9822-4ab8-d99c-abf6834fb394"
      },
      "execution_count": null,
      "outputs": [
        {
          "output_type": "stream",
          "name": "stdout",
          "text": [
            "\\naveen\n"
          ]
        }
      ]
    },
    {
      "cell_type": "code",
      "source": [
        "x=5\n",
        "y=x+5\n",
        "y"
      ],
      "metadata": {
        "colab": {
          "base_uri": "https://localhost:8080/"
        },
        "id": "tzhDMW8oDJ2k",
        "outputId": "7c8dab72-caaf-41b9-98ee-6df5759809cf"
      },
      "execution_count": null,
      "outputs": [
        {
          "output_type": "execute_result",
          "data": {
            "text/plain": [
              "10"
            ]
          },
          "metadata": {},
          "execution_count": 19
        }
      ]
    },
    {
      "cell_type": "code",
      "source": [
        "x+y   #from above values"
      ],
      "metadata": {
        "colab": {
          "base_uri": "https://localhost:8080/"
        },
        "id": "1rD-9dE9Dnln",
        "outputId": "47d7a539-4760-4fb6-d4ec-994d781bad32"
      },
      "execution_count": null,
      "outputs": [
        {
          "output_type": "execute_result",
          "data": {
            "text/plain": [
              "15"
            ]
          },
          "metadata": {},
          "execution_count": 20
        }
      ]
    },
    {
      "cell_type": "markdown",
      "source": [
        "#built-in functions\n",
        "\n",
        "abs()\tReturns the absolute value of a number\n",
        "\n",
        "all()\tReturns True if all items in an iterable object are true\n",
        "\n",
        "any()\tReturns True if any item in an iterable object is true\n",
        "\n",
        "ascii()\tReturns a readable version of an object. Replaces none-ascii characters \n",
        "with escape character\n",
        "\n",
        "bin()\tReturns the binary version of a number\n",
        "\n",
        "bool()\tReturns the boolean value of the specified object\n",
        "\n",
        "bytearray()\tReturns an array of bytes\n",
        "\n",
        "bytes()\tReturns a bytes object\n",
        "\n",
        "callable()\tReturns True if the specified object is callable, otherwise False\n",
        "\n",
        "chr()\tReturns a character from the specified Unicode code.\n",
        "\n",
        "classmethod()\tConverts a method into a class method\n",
        "\n",
        "compile()\tReturns the specified source as an object, ready to be executed\n",
        "\n",
        "complex()\tReturns a complex number\n",
        "\n",
        "delattr()\tDeletes the specified attribute (property or method) from the \n",
        "specified object\n",
        "\n",
        "dict()\tReturns a dictionary (Array)\n",
        "\n",
        "dir()\tReturns a list of the specified object's properties and methods\n",
        "\n",
        "divmod()\tReturns the quotient and the remainder when argument1 is divided by argument2\n",
        "\n",
        "enumerate()\tTakes a collection (e.g. a tuple) and returns it as an enumerate object\n",
        "\n",
        "eval()\tEvaluates and executes an expression\n",
        "\n",
        "exec()\tExecutes the specified code (or object)\n",
        "\n",
        "filter()\tUse a filter function to exclude items in an iterable object\n",
        "\n",
        "float()\tReturns a floating point number\n",
        "\n",
        "format()\tFormats a specified value\n",
        "\n",
        "frozenset()\tReturns a frozenset object\n",
        "\n",
        "getattr()\tReturns the value of the specified attribute (property or method)\n",
        "\n",
        "globals()\tReturns the current global symbol table as a dictionary\n",
        "\n",
        "hasattr()\tReturns True if the specified object has the specified attribute (property/method)\n",
        "\n",
        "hash()\tReturns the hash value of a specified object\n",
        "\n",
        "help()\tExecutes the built-in help system\n",
        "\n",
        "hex()\tConverts a number into a hexadecimal value\n",
        "\n",
        "id()\tReturns the id of an object\n",
        "\n",
        "input()\tAllowing user input\n",
        "\n",
        "int()\tReturns an integer number\n",
        "\n",
        "isinstance()\tReturns True if a specified object is an instance of a specified object\n",
        "\n",
        "issubclass()\tReturns True if a specified class is a subclass of a specified object\n",
        "\n",
        "iter()\tReturns an iterator object\n",
        "\n",
        "len()\tReturns the length of an object\n",
        "\n",
        "list()\tReturns a list\n",
        "\n",
        "locals()\tReturns an updated dictionary of the current local symbol table\n",
        "\n",
        "map()\tReturns the specified iterator with the specified function applied to each item\n",
        "\n",
        "max()\tReturns the largest item in an iterable\n",
        "\n",
        "memoryview()\tReturns a memory view object\n",
        "\n",
        "min()\tReturns the smallest item in an iterable\n",
        "\n",
        "next()\tReturns the next item in an iterable\n",
        "\n",
        "object()\tReturns a new object\n",
        "\n",
        "oct()\tConverts a number into an octal\n",
        "\n",
        "open()\tOpens a file and returns a file object\n",
        "\n",
        "ord()\tConvert an integer representing the Unicode of the specified character\n",
        "\n",
        "pow()\tReturns the value of x to the power of y\n",
        "\n",
        "print()\tPrints to the standard output device\n",
        "\n",
        "property()\tGets, sets, deletes a property\n",
        "\n",
        "range()\tReturns a sequence of numbers, starting from 0 and increments by 1 (by \n",
        "default)\n",
        "\n",
        "repr()\tReturns a readable version of an object\n",
        "\n",
        "reversed()\tReturns a reversed iterator\n",
        "\n",
        "round()\tRounds a numbers\n",
        "\n",
        "set()\tReturns a new set object\n",
        "\n",
        "setattr()\tSets an attribute (property/method) of an object\n",
        "\n",
        "slice()\tReturns a slice object\n",
        "\n",
        "sorted()\tReturns a sorted list\n",
        "\n",
        "staticmethod()\tConverts a method into a static method\n",
        "\n",
        "str()\tReturns a string object\n",
        "\n",
        "sum()\tSums the items of an iterator\n",
        "\n",
        "super()\tReturns an object that represents the parent class\n",
        "\n",
        "tuple()\tReturns a tuple\n",
        "\n",
        "type()\tReturns the type of an object\n",
        "\n",
        "vars()\tReturns the __dict__ property of an object\n",
        "\n",
        "zip()\tReturns an iterator, from two or more iterators"
      ],
      "metadata": {
        "id": "EiqIopLCh-u6"
      }
    },
    {
      "cell_type": "markdown",
      "source": [
        "#string\n",
        "\n",
        "strings are immutable\n"
      ],
      "metadata": {
        "id": "QRqVgWWPEYsd"
      }
    },
    {
      "cell_type": "code",
      "source": [
        "name=\"youtube\"\n",
        "name[0]"
      ],
      "metadata": {
        "colab": {
          "base_uri": "https://localhost:8080/",
          "height": 36
        },
        "id": "MuFgqiEtEbJQ",
        "outputId": "6ba71724-5dfb-4324-e76c-1047738d3fba"
      },
      "execution_count": null,
      "outputs": [
        {
          "output_type": "execute_result",
          "data": {
            "text/plain": [
              "'e'"
            ],
            "application/vnd.google.colaboratory.intrinsic+json": {
              "type": "string"
            }
          },
          "metadata": {},
          "execution_count": 24
        }
      ]
    },
    {
      "cell_type": "code",
      "source": [
        "name[8]"
      ],
      "metadata": {
        "colab": {
          "base_uri": "https://localhost:8080/",
          "height": 165
        },
        "id": "2yqUFod9E-KA",
        "outputId": "ad520f11-3de8-4b67-bd5c-cbe334099b14"
      },
      "execution_count": null,
      "outputs": [
        {
          "output_type": "error",
          "ename": "IndexError",
          "evalue": "ignored",
          "traceback": [
            "\u001b[0;31m---------------------------------------------------------------------------\u001b[0m",
            "\u001b[0;31mIndexError\u001b[0m                                Traceback (most recent call last)",
            "\u001b[0;32m<ipython-input-25-c87ccbc6d317>\u001b[0m in \u001b[0;36m<module>\u001b[0;34m\u001b[0m\n\u001b[0;32m----> 1\u001b[0;31m \u001b[0mname\u001b[0m\u001b[0;34m[\u001b[0m\u001b[0;36m8\u001b[0m\u001b[0;34m]\u001b[0m\u001b[0;34m\u001b[0m\u001b[0;34m\u001b[0m\u001b[0m\n\u001b[0m",
            "\u001b[0;31mIndexError\u001b[0m: string index out of range"
          ]
        }
      ]
    },
    {
      "cell_type": "code",
      "source": [
        "name[-1]     #negative means from back"
      ],
      "metadata": {
        "colab": {
          "base_uri": "https://localhost:8080/",
          "height": 36
        },
        "id": "2e7-TLS1FBev",
        "outputId": "c5e7270c-d005-4396-9600-cda44e3abdc2"
      },
      "execution_count": null,
      "outputs": [
        {
          "output_type": "execute_result",
          "data": {
            "text/plain": [
              "'e'"
            ],
            "application/vnd.google.colaboratory.intrinsic+json": {
              "type": "string"
            }
          },
          "metadata": {},
          "execution_count": 28
        }
      ]
    },
    {
      "cell_type": "code",
      "source": [
        "name[-4]"
      ],
      "metadata": {
        "colab": {
          "base_uri": "https://localhost:8080/",
          "height": 36
        },
        "id": "LLN7LbMkFFnC",
        "outputId": "43c9a543-31c1-4455-86e2-44b02421bbcd"
      },
      "execution_count": null,
      "outputs": [
        {
          "output_type": "execute_result",
          "data": {
            "text/plain": [
              "'t'"
            ],
            "application/vnd.google.colaboratory.intrinsic+json": {
              "type": "string"
            }
          },
          "metadata": {},
          "execution_count": 29
        }
      ]
    },
    {
      "cell_type": "code",
      "source": [
        "print(name[0])"
      ],
      "metadata": {
        "colab": {
          "base_uri": "https://localhost:8080/"
        },
        "id": "FSS544z6FPxc",
        "outputId": "0897ced9-aa19-4ed4-b548-e91ee0c09d91"
      },
      "execution_count": null,
      "outputs": [
        {
          "output_type": "stream",
          "name": "stdout",
          "text": [
            "y\n"
          ]
        }
      ]
    },
    {
      "cell_type": "code",
      "source": [
        "print(name[0:3])"
      ],
      "metadata": {
        "colab": {
          "base_uri": "https://localhost:8080/"
        },
        "id": "EM8ofMerFnmH",
        "outputId": "1f735567-9a5d-4afc-82b9-160999b646d1"
      },
      "execution_count": null,
      "outputs": [
        {
          "output_type": "stream",
          "name": "stdout",
          "text": [
            "you\n"
          ]
        }
      ]
    },
    {
      "cell_type": "code",
      "source": [
        "print(name[3:10])"
      ],
      "metadata": {
        "colab": {
          "base_uri": "https://localhost:8080/"
        },
        "id": "tGrcqOrDFuSM",
        "outputId": "f29f1e66-a2ce-411d-a949-d68a03c403f7"
      },
      "execution_count": null,
      "outputs": [
        {
          "output_type": "stream",
          "name": "stdout",
          "text": [
            "tube\n"
          ]
        }
      ]
    },
    {
      "cell_type": "code",
      "source": [
        "name[0:3]=\"my\""
      ],
      "metadata": {
        "colab": {
          "base_uri": "https://localhost:8080/",
          "height": 165
        },
        "id": "2SG1pdFDHnxp",
        "outputId": "aa1f6630-125a-49c6-f21a-18ae63cbc017"
      },
      "execution_count": null,
      "outputs": [
        {
          "output_type": "error",
          "ename": "TypeError",
          "evalue": "ignored",
          "traceback": [
            "\u001b[0;31m---------------------------------------------------------------------------\u001b[0m",
            "\u001b[0;31mTypeError\u001b[0m                                 Traceback (most recent call last)",
            "\u001b[0;32m<ipython-input-34-851184809ed0>\u001b[0m in \u001b[0;36m<module>\u001b[0;34m\u001b[0m\n\u001b[0;32m----> 1\u001b[0;31m \u001b[0mname\u001b[0m\u001b[0;34m[\u001b[0m\u001b[0;36m0\u001b[0m\u001b[0;34m:\u001b[0m\u001b[0;36m3\u001b[0m\u001b[0;34m]\u001b[0m\u001b[0;34m=\u001b[0m\u001b[0;34m\"my\"\u001b[0m\u001b[0;34m\u001b[0m\u001b[0;34m\u001b[0m\u001b[0m\n\u001b[0m",
            "\u001b[0;31mTypeError\u001b[0m: 'str' object does not support item assignment"
          ]
        }
      ]
    },
    {
      "cell_type": "code",
      "source": [
        "\"my \"+name[3:]     #3 to so on......."
      ],
      "metadata": {
        "colab": {
          "base_uri": "https://localhost:8080/",
          "height": 36
        },
        "id": "rCu1AoAjIAnZ",
        "outputId": "8dc509fe-b217-4e24-a146-127a10e4900b"
      },
      "execution_count": null,
      "outputs": [
        {
          "output_type": "execute_result",
          "data": {
            "text/plain": [
              "'my tube'"
            ],
            "application/vnd.google.colaboratory.intrinsic+json": {
              "type": "string"
            }
          },
          "metadata": {},
          "execution_count": 37
        }
      ]
    },
    {
      "cell_type": "code",
      "source": [
        "len(\"sir\")"
      ],
      "metadata": {
        "colab": {
          "base_uri": "https://localhost:8080/"
        },
        "id": "AesD2DHAIart",
        "outputId": "5fc1e37c-515c-4efd-9607-2d484c58abde"
      },
      "execution_count": null,
      "outputs": [
        {
          "output_type": "execute_result",
          "data": {
            "text/plain": [
              "3"
            ]
          },
          "metadata": {},
          "execution_count": 38
        }
      ]
    },
    {
      "cell_type": "code",
      "source": [
        "myname=\"thota naga venkata pramod\"\n",
        "len(myname)                   #length includes space also"
      ],
      "metadata": {
        "colab": {
          "base_uri": "https://localhost:8080/"
        },
        "id": "QrpqBEL3IjCm",
        "outputId": "626b4b57-6eb7-4e5e-eec6-ffd0a8827e44"
      },
      "execution_count": null,
      "outputs": [
        {
          "output_type": "execute_result",
          "data": {
            "text/plain": [
              "25"
            ]
          },
          "metadata": {},
          "execution_count": 39
        }
      ]
    },
    {
      "cell_type": "code",
      "source": [
        "myname.append(\"hi\")"
      ],
      "metadata": {
        "id": "-mt02D9aRpAT",
        "outputId": "bb50799b-51cc-4fca-f47d-eaa5656735bf",
        "colab": {
          "base_uri": "https://localhost:8080/",
          "height": 165
        }
      },
      "execution_count": null,
      "outputs": [
        {
          "ename": "NameError",
          "evalue": "ignored",
          "output_type": "error",
          "traceback": [
            "\u001b[0;31m---------------------------------------------------------------------------\u001b[0m",
            "\u001b[0;31mNameError\u001b[0m                                 Traceback (most recent call last)",
            "\u001b[0;32m<ipython-input-1-0d87d1375c5a>\u001b[0m in \u001b[0;36m<module>\u001b[0;34m\u001b[0m\n\u001b[0;32m----> 1\u001b[0;31m \u001b[0mmyname\u001b[0m\u001b[0;34m.\u001b[0m\u001b[0mappend\u001b[0m\u001b[0;34m(\u001b[0m\u001b[0;34m\"hi\"\u001b[0m\u001b[0;34m)\u001b[0m\u001b[0;34m\u001b[0m\u001b[0;34m\u001b[0m\u001b[0m\n\u001b[0m",
            "\u001b[0;31mNameError\u001b[0m: name 'myname' is not defined"
          ]
        }
      ]
    },
    {
      "cell_type": "markdown",
      "source": [
        "#string methods\n",
        "\n",
        "capitalize()\tConverts the first character to upper case\n",
        "\n",
        "casefold()\tConverts string into lower case\n",
        "\n",
        "center()\tReturns a centered string\n",
        "\n",
        "count()\tReturns the number of times a specified value occurs in a string\n",
        "\n",
        "encode()\tReturns an encoded version of the string\n",
        "\n",
        "endswith()\tReturns true if the string ends with the specified value\n",
        "\n",
        "expandtabs()\tSets the tab size of the string\n",
        "\n",
        "find()\tSearches the string for a specified value and returns the position of where it was found\n",
        "\n",
        "format()\tFormats specified values in a string\n",
        "\n",
        "format_map()\tFormats specified values in a string\n",
        "\n",
        "index()\tSearches the string for a specified value and returns the position of where it was found\n",
        "\n",
        "isalnum()\tReturns True if all characters in the string are alphanumeric\n",
        "\n",
        "isalpha()\tReturns True if all characters in the string are in the alphabet\n",
        "\n",
        "isascii()\tReturns True if all characters in the string are ascii characters\n",
        "\n",
        "isdecimal()\tReturns True if all characters in the string are decimals\n",
        "\n",
        "isdigit()\tReturns True if all characters in the string are digits\n",
        "\n",
        "isidentifier()\tReturns True if the string is an identifier\n",
        "\n",
        "islower()\tReturns True if all characters in the string are lower case\n",
        "\n",
        "isnumeric()\tReturns True if all characters in the string are numeric\n",
        "\n",
        "isprintable()\tReturns True if all characters in the string are printable\n",
        "\n",
        "isspace()\tReturns True if all characters in the string are whitespaces\n",
        "\n",
        "istitle()\tReturns True if the string follows the rules of a title\n",
        "\n",
        "isupper()\tReturns True if all characters in the string are upper case\n",
        "\n",
        "join()\tConverts the elements of an iterable into a string\n",
        "\n",
        "ljust()\tReturns a left justified version of the string\n",
        "\n",
        "lower()\tConverts a string into lower case\n",
        "\n",
        "lstrip()\tReturns a left trim version of the string\n",
        "\n",
        "maketrans()\tReturns a translation table to be used in translations\n",
        "\n",
        "partition()\tReturns a tuple where the string is parted into three parts\n",
        "\n",
        "replace()\tReturns a string where a specified value is replaced with a specified value\n",
        "\n",
        "rfind()\tSearches the string for a specified value and returns the last position of where it was found\n",
        "\n",
        "rindex()\tSearches the string for a specified value and returns the last position of where it was found\n",
        "\n",
        "rjust()\tReturns a right justified version of the string\n",
        "\n",
        "rpartition()\tReturns a tuple where the string is parted into three parts\n",
        "\n",
        "rsplit()\tSplits the string at the specified separator, and returns a list\n",
        "\n",
        "rstrip()\tReturns a right trim version of the string\n",
        "\n",
        "split()\tSplits the string at the specified separator, and returns a list\n",
        "\n",
        "splitlines()\tSplits the string at line breaks and returns a list\n",
        "\n",
        "startswith()\tReturns true if the string starts with the specified value\n",
        "\n",
        "strip()\tReturns a trimmed version of the string\n",
        "\n",
        "swapcase()\tSwaps cases, lower case becomes upper case and vice versa\n",
        "\n",
        "title()\tConverts the first character of each word to upper case\n",
        "\n",
        "translate()\tReturns a translated string\n",
        "\n",
        "upper()\tConverts a string into upper case\n",
        "\n",
        "zfill()\tFills the string with a specified number of 0 values at the beginning"
      ],
      "metadata": {
        "id": "jAqqvCk2gu0m"
      }
    },
    {
      "cell_type": "markdown",
      "source": [
        "#list\n",
        "\n",
        "lists are mutable"
      ],
      "metadata": {
        "id": "sfZW2v71TWbj"
      }
    },
    {
      "cell_type": "code",
      "source": [
        "nums=[34,3,4,65]\n",
        "nums"
      ],
      "metadata": {
        "colab": {
          "base_uri": "https://localhost:8080/"
        },
        "id": "YfV_Hys8I7pC",
        "outputId": "99ac446c-bf74-427a-fafc-f429621ac968"
      },
      "execution_count": null,
      "outputs": [
        {
          "output_type": "execute_result",
          "data": {
            "text/plain": [
              "[34, 3, 4, 65]"
            ]
          },
          "metadata": {},
          "execution_count": 41
        }
      ]
    },
    {
      "cell_type": "code",
      "source": [
        "nums[0]"
      ],
      "metadata": {
        "colab": {
          "base_uri": "https://localhost:8080/"
        },
        "id": "bVnnrsmzJl8a",
        "outputId": "540068b2-47bb-49d1-a274-464c7466f3b7"
      },
      "execution_count": null,
      "outputs": [
        {
          "output_type": "execute_result",
          "data": {
            "text/plain": [
              "34"
            ]
          },
          "metadata": {},
          "execution_count": 42
        }
      ]
    },
    {
      "cell_type": "code",
      "source": [
        "nums[-1]"
      ],
      "metadata": {
        "colab": {
          "base_uri": "https://localhost:8080/"
        },
        "id": "G67ACjEeJqzf",
        "outputId": "60cef865-2e4d-4be6-ddfa-bd3063bdd66a"
      },
      "execution_count": null,
      "outputs": [
        {
          "output_type": "execute_result",
          "data": {
            "text/plain": [
              "65"
            ]
          },
          "metadata": {},
          "execution_count": 43
        }
      ]
    },
    {
      "cell_type": "code",
      "source": [
        "names=[\"navin\",\"kiran\"]"
      ],
      "metadata": {
        "id": "wANoSU7hJ2vk"
      },
      "execution_count": null,
      "outputs": []
    },
    {
      "cell_type": "code",
      "source": [
        "mil=[nums,names]\n",
        "mil"
      ],
      "metadata": {
        "colab": {
          "base_uri": "https://localhost:8080/"
        },
        "id": "yb4Kb58RKKGt",
        "outputId": "2c17d1bd-ca73-4312-f963-cfb084b4cc68"
      },
      "execution_count": null,
      "outputs": [
        {
          "output_type": "execute_result",
          "data": {
            "text/plain": [
              "[[34, 3, 4, 65], ['navin', 'kiran']]"
            ]
          },
          "metadata": {},
          "execution_count": 46
        }
      ]
    },
    {
      "cell_type": "code",
      "source": [
        "nums.append(409)\n",
        "nums"
      ],
      "metadata": {
        "colab": {
          "base_uri": "https://localhost:8080/"
        },
        "id": "drlt0I3RKWAP",
        "outputId": "dce314ff-1de6-4cbd-8857-b39b17fe8956"
      },
      "execution_count": null,
      "outputs": [
        {
          "output_type": "execute_result",
          "data": {
            "text/plain": [
              "[34, 3, 4, 65, 34, 34, 409]"
            ]
          },
          "metadata": {},
          "execution_count": 50
        }
      ]
    },
    {
      "cell_type": "code",
      "source": [
        "nums.insert(2,55)   #at second index 55 is added\n",
        "nums"
      ],
      "metadata": {
        "colab": {
          "base_uri": "https://localhost:8080/"
        },
        "id": "XfiAPuRQKk3A",
        "outputId": "9ce951ae-e648-4459-c4f7-2a836bfb449a"
      },
      "execution_count": null,
      "outputs": [
        {
          "output_type": "execute_result",
          "data": {
            "text/plain": [
              "[34, 3, 55, 4, 65, 34, 34, 409]"
            ]
          },
          "metadata": {},
          "execution_count": 51
        }
      ]
    },
    {
      "cell_type": "code",
      "source": [
        "nums.insert([3,109],[5,45555])"
      ],
      "metadata": {
        "colab": {
          "base_uri": "https://localhost:8080/",
          "height": 165
        },
        "id": "-WQAofUtK9b2",
        "outputId": "89bea65b-b988-4a4e-c5ab-553ebab01bec"
      },
      "execution_count": null,
      "outputs": [
        {
          "output_type": "error",
          "ename": "TypeError",
          "evalue": "ignored",
          "traceback": [
            "\u001b[0;31m---------------------------------------------------------------------------\u001b[0m",
            "\u001b[0;31mTypeError\u001b[0m                                 Traceback (most recent call last)",
            "\u001b[0;32m<ipython-input-52-9efa67816240>\u001b[0m in \u001b[0;36m<module>\u001b[0;34m\u001b[0m\n\u001b[0;32m----> 1\u001b[0;31m \u001b[0mnums\u001b[0m\u001b[0;34m.\u001b[0m\u001b[0minsert\u001b[0m\u001b[0;34m(\u001b[0m\u001b[0;34m[\u001b[0m\u001b[0;36m3\u001b[0m\u001b[0;34m,\u001b[0m\u001b[0;36m109\u001b[0m\u001b[0;34m]\u001b[0m\u001b[0;34m,\u001b[0m\u001b[0;34m[\u001b[0m\u001b[0;36m5\u001b[0m\u001b[0;34m,\u001b[0m\u001b[0;36m45555\u001b[0m\u001b[0;34m]\u001b[0m\u001b[0;34m)\u001b[0m\u001b[0;34m\u001b[0m\u001b[0;34m\u001b[0m\u001b[0m\n\u001b[0m",
            "\u001b[0;31mTypeError\u001b[0m: 'list' object cannot be interpreted as an integer"
          ]
        }
      ]
    },
    {
      "cell_type": "code",
      "source": [
        "nums.remove(34)\n",
        "nums"
      ],
      "metadata": {
        "colab": {
          "base_uri": "https://localhost:8080/"
        },
        "id": "QmJPGmLzLHlj",
        "outputId": "d0f7c9f6-c638-483c-c423-4b5b29298183"
      },
      "execution_count": null,
      "outputs": [
        {
          "output_type": "execute_result",
          "data": {
            "text/plain": [
              "[3, 55, 4, 65, 34, 409]"
            ]
          },
          "metadata": {},
          "execution_count": 54
        }
      ]
    },
    {
      "cell_type": "code",
      "source": [
        "nums.pop()"
      ],
      "metadata": {
        "colab": {
          "base_uri": "https://localhost:8080/"
        },
        "id": "rAeAL_2EOeDN",
        "outputId": "9268e0cf-36ca-4b37-8374-2f78a443cac5"
      },
      "execution_count": null,
      "outputs": [
        {
          "output_type": "execute_result",
          "data": {
            "text/plain": [
              "409"
            ]
          },
          "metadata": {},
          "execution_count": 55
        }
      ]
    },
    {
      "cell_type": "code",
      "source": [
        "nums"
      ],
      "metadata": {
        "colab": {
          "base_uri": "https://localhost:8080/"
        },
        "id": "QKZPpT8ZOjfk",
        "outputId": "f44ab688-4639-4858-8dbc-3c6dcb991dc7"
      },
      "execution_count": null,
      "outputs": [
        {
          "output_type": "execute_result",
          "data": {
            "text/plain": [
              "[3, 55, 4, 65, 34]"
            ]
          },
          "metadata": {},
          "execution_count": 56
        }
      ]
    },
    {
      "cell_type": "code",
      "source": [
        "nums.pop(2)"
      ],
      "metadata": {
        "colab": {
          "base_uri": "https://localhost:8080/"
        },
        "id": "b8mceFbYOlYM",
        "outputId": "20315150-fe28-4587-80b5-c7ef1bbe32a0"
      },
      "execution_count": null,
      "outputs": [
        {
          "output_type": "execute_result",
          "data": {
            "text/plain": [
              "34"
            ]
          },
          "metadata": {},
          "execution_count": 62
        }
      ]
    },
    {
      "cell_type": "code",
      "source": [
        "nums.pop(-2)"
      ],
      "metadata": {
        "colab": {
          "base_uri": "https://localhost:8080/"
        },
        "id": "HxjNWbolOvne",
        "outputId": "ce547f5a-c48e-4759-931e-d9370292c7b1"
      },
      "execution_count": null,
      "outputs": [
        {
          "output_type": "execute_result",
          "data": {
            "text/plain": [
              "65"
            ]
          },
          "metadata": {},
          "execution_count": 60
        }
      ]
    },
    {
      "cell_type": "code",
      "source": [
        "nums.pop(1,2)"
      ],
      "metadata": {
        "colab": {
          "base_uri": "https://localhost:8080/",
          "height": 165
        },
        "id": "XM8w6GJkO0ws",
        "outputId": "7379b612-681e-437f-f450-fef4b306232f"
      },
      "execution_count": null,
      "outputs": [
        {
          "output_type": "error",
          "ename": "TypeError",
          "evalue": "ignored",
          "traceback": [
            "\u001b[0;31m---------------------------------------------------------------------------\u001b[0m",
            "\u001b[0;31mTypeError\u001b[0m                                 Traceback (most recent call last)",
            "\u001b[0;32m<ipython-input-63-aa005209f084>\u001b[0m in \u001b[0;36m<module>\u001b[0;34m\u001b[0m\n\u001b[0;32m----> 1\u001b[0;31m \u001b[0mnums\u001b[0m\u001b[0;34m.\u001b[0m\u001b[0mpop\u001b[0m\u001b[0;34m(\u001b[0m\u001b[0;36m1\u001b[0m\u001b[0;34m,\u001b[0m\u001b[0;36m2\u001b[0m\u001b[0;34m)\u001b[0m\u001b[0;34m\u001b[0m\u001b[0;34m\u001b[0m\u001b[0m\n\u001b[0m",
            "\u001b[0;31mTypeError\u001b[0m: pop expected at most 1 argument, got 2"
          ]
        }
      ]
    },
    {
      "cell_type": "code",
      "source": [
        "nums"
      ],
      "metadata": {
        "colab": {
          "base_uri": "https://localhost:8080/"
        },
        "id": "7PgzmDrpPJ-5",
        "outputId": "2897703f-62cf-48b1-8e3d-6da1b7c93be7"
      },
      "execution_count": null,
      "outputs": [
        {
          "output_type": "execute_result",
          "data": {
            "text/plain": [
              "[3, 55]"
            ]
          },
          "metadata": {},
          "execution_count": 68
        }
      ]
    },
    {
      "cell_type": "code",
      "source": [
        "del nums[0:]      #delete the numbers in a list starting from zero \n",
        "nums"
      ],
      "metadata": {
        "colab": {
          "base_uri": "https://localhost:8080/"
        },
        "id": "Xw1OWNWIO-wx",
        "outputId": "25e2608c-7a17-43fe-adb6-80ff1ba3e9e6"
      },
      "execution_count": null,
      "outputs": [
        {
          "output_type": "execute_result",
          "data": {
            "text/plain": [
              "[]"
            ]
          },
          "metadata": {},
          "execution_count": 71
        }
      ]
    },
    {
      "cell_type": "code",
      "source": [
        "names.append(\"kishore\")\n",
        "names"
      ],
      "metadata": {
        "colab": {
          "base_uri": "https://localhost:8080/"
        },
        "id": "tWIUpZI1Xu3F",
        "outputId": "ecc25aa4-ae69-4a13-9f07-c3fc9fb77583"
      },
      "execution_count": null,
      "outputs": [
        {
          "output_type": "execute_result",
          "data": {
            "text/plain": [
              "['navin', 'kiran', 'kishore', 'kishore']"
            ]
          },
          "metadata": {},
          "execution_count": 81
        }
      ]
    },
    {
      "cell_type": "code",
      "source": [
        "letters=\"hwjhfdhushhafgjhadfyulghugfiuuiegf\"\n",
        "a=letters[::-1]          #[start:stop:iteration]\n",
        "a"
      ],
      "metadata": {
        "colab": {
          "base_uri": "https://localhost:8080/",
          "height": 36
        },
        "id": "kfmzF1-tYTwl",
        "outputId": "db0d8036-bc80-4c07-f8b3-065984061bd1"
      },
      "execution_count": null,
      "outputs": [
        {
          "output_type": "execute_result",
          "data": {
            "text/plain": [
              "'fgeiuuifguhgluyfdahjgfahhsuhdfhjwh'"
            ],
            "application/vnd.google.colaboratory.intrinsic+json": {
              "type": "string"
            }
          },
          "metadata": {},
          "execution_count": 85
        }
      ]
    },
    {
      "cell_type": "code",
      "source": [
        "cars = ['Ford', 'BMW', 'Volvo']\n",
        "\n",
        "cars.sort()\n",
        "\n",
        "print(cars)\n"
      ],
      "metadata": {
        "id": "f0hcPMj9UYh0",
        "outputId": "701e131e-ecf7-4990-90f4-1077b2ad2fc0",
        "colab": {
          "base_uri": "https://localhost:8080/"
        }
      },
      "execution_count": null,
      "outputs": [
        {
          "output_type": "stream",
          "name": "stdout",
          "text": [
            "['BMW', 'Ford', 'Volvo']\n"
          ]
        }
      ]
    },
    {
      "cell_type": "code",
      "source": [
        "cars = ['Ford', 'BMW', 'Volvo']               \n",
        "\n",
        "cars.sort(reverse=True)\n",
        "\n",
        "print(cars)\n"
      ],
      "metadata": {
        "id": "ADALojHIUwIY",
        "outputId": "9e84e6ec-02b8-42a4-f645-09a17ad57a17",
        "colab": {
          "base_uri": "https://localhost:8080/"
        }
      },
      "execution_count": null,
      "outputs": [
        {
          "output_type": "stream",
          "name": "stdout",
          "text": [
            "['Volvo', 'Ford', 'BMW']\n"
          ]
        }
      ]
    },
    {
      "cell_type": "code",
      "source": [
        "fruits = [\"apple\", \"banana\", \"cherry\"]       #Returns a copy of the list\n",
        "\n",
        "x = fruits.copy()\n",
        "\n",
        "print(x)\n"
      ],
      "metadata": {
        "id": "UwvrIek-UdFB",
        "outputId": "21b10116-49d7-44ac-aca8-a7a4cbd391e3",
        "colab": {
          "base_uri": "https://localhost:8080/"
        }
      },
      "execution_count": null,
      "outputs": [
        {
          "output_type": "stream",
          "name": "stdout",
          "text": [
            "['apple', 'banana', 'cherry']\n"
          ]
        }
      ]
    },
    {
      "cell_type": "code",
      "source": [
        "fruits = ['apple', 'banana', 'cherry']\n",
        "\n",
        "fruits.reverse()"
      ],
      "metadata": {
        "id": "_2gkY9u-U-YX"
      },
      "execution_count": null,
      "outputs": []
    },
    {
      "cell_type": "code",
      "source": [
        "fruits = [4, 55, 64, 32, 16, 32]\n",
        "\n",
        "x = fruits.index(32)"
      ],
      "metadata": {
        "id": "l8KXh3p9Vate"
      },
      "execution_count": null,
      "outputs": []
    },
    {
      "cell_type": "code",
      "source": [
        "fruits = ['apple', 'banana', 'cherry']    #Add the elements of a list (or any iterable), to the end of the current list\n",
        "\n",
        "cars = ['Ford', 'BMW', 'Volvo']\n",
        "\n",
        "fruits.extend(cars)"
      ],
      "metadata": {
        "id": "h88GQM3eVnqF"
      },
      "execution_count": null,
      "outputs": []
    },
    {
      "cell_type": "code",
      "source": [
        "fruits = ['apple', 'banana', 'cherry']  #return how many times the cherry is present\n",
        "\n",
        "x = fruits.count(\"cherry\")"
      ],
      "metadata": {
        "id": "ExKDj8b_V2Sw"
      },
      "execution_count": null,
      "outputs": []
    },
    {
      "cell_type": "code",
      "source": [
        "fruits = ['apple', 'banana', 'cherry', 'orange']          #Remove all elements from the fruits list\n",
        "\n",
        "fruits.clear()"
      ],
      "metadata": {
        "id": "Ordbk7SFWFuf"
      },
      "execution_count": null,
      "outputs": []
    },
    {
      "cell_type": "markdown",
      "source": [
        "#list methods\n",
        "\n",
        "append()\tAdds an element at the end of the list\n",
        "\n",
        "clear()\tRemoves all the elements from the list\n",
        "\n",
        "copy()\tReturns a copy of the list\n",
        "\n",
        "count()\tReturns the number of elements with the specified value\n",
        "\n",
        "extend()\tAdd the elements of a list (or any iterable), to the end of the current list\n",
        "\n",
        "index()\tReturns the index of the first element with the specified value\n",
        "\n",
        "insert()\tAdds an element at the specified position\n",
        "\n",
        "pop()\tRemoves the element at the specified position\n",
        "\n",
        "remove()\tRemoves the first item with the specified value\n",
        "\n",
        "reverse()\tReverses the order of the list\n",
        "\n",
        "sort()\tSorts the list"
      ],
      "metadata": {
        "id": "qwNvo6T_gfB5"
      }
    },
    {
      "cell_type": "markdown",
      "source": [
        "#Tuples\n",
        "\n",
        "tuples are immutable\n",
        "\n",
        "tuples are more memory efficent then compare to lists"
      ],
      "metadata": {
        "id": "FWSyq1_dZQ38"
      }
    },
    {
      "cell_type": "code",
      "source": [
        "tup=(945,56,789,999)\n",
        "tup"
      ],
      "metadata": {
        "colab": {
          "base_uri": "https://localhost:8080/"
        },
        "id": "7qAUq2R1ZVV2",
        "outputId": "30f0cfc9-5978-4a96-f558-3a95a57f836a"
      },
      "execution_count": null,
      "outputs": [
        {
          "output_type": "execute_result",
          "data": {
            "text/plain": [
              "(945, 56, 789, 999)"
            ]
          },
          "metadata": {},
          "execution_count": 86
        }
      ]
    },
    {
      "cell_type": "code",
      "source": [
        "tup[1]"
      ],
      "metadata": {
        "colab": {
          "base_uri": "https://localhost:8080/"
        },
        "id": "f2hVDbzEZtnR",
        "outputId": "17f1db14-ecb9-4a1c-deb3-d1569df23245"
      },
      "execution_count": null,
      "outputs": [
        {
          "output_type": "execute_result",
          "data": {
            "text/plain": [
              "56"
            ]
          },
          "metadata": {},
          "execution_count": 87
        }
      ]
    },
    {
      "cell_type": "code",
      "source": [
        "tup[3]=43"
      ],
      "metadata": {
        "colab": {
          "base_uri": "https://localhost:8080/",
          "height": 165
        },
        "id": "BHuxwg6hZ0tz",
        "outputId": "48f6b92a-1d2c-4d39-8f53-dfd2b7e80a9f"
      },
      "execution_count": null,
      "outputs": [
        {
          "output_type": "error",
          "ename": "TypeError",
          "evalue": "ignored",
          "traceback": [
            "\u001b[0;31m---------------------------------------------------------------------------\u001b[0m",
            "\u001b[0;31mTypeError\u001b[0m                                 Traceback (most recent call last)",
            "\u001b[0;32m<ipython-input-88-7eb616cd68e7>\u001b[0m in \u001b[0;36m<module>\u001b[0;34m\u001b[0m\n\u001b[0;32m----> 1\u001b[0;31m \u001b[0mtup\u001b[0m\u001b[0;34m[\u001b[0m\u001b[0;36m3\u001b[0m\u001b[0;34m]\u001b[0m\u001b[0;34m=\u001b[0m\u001b[0;36m43\u001b[0m\u001b[0;34m\u001b[0m\u001b[0;34m\u001b[0m\u001b[0m\n\u001b[0m",
            "\u001b[0;31mTypeError\u001b[0m: 'tuple' object does not support item assignment"
          ]
        }
      ]
    },
    {
      "cell_type": "markdown",
      "source": [
        "#tuple methods\n",
        "\n",
        "count()\tReturns the number of times a specified value occurs in a tuple\n",
        "\n",
        "index()\tSearches the tuple for a specified value and returns the position of where it was found"
      ],
      "metadata": {
        "id": "KWFe1B-lgPS8"
      }
    },
    {
      "cell_type": "markdown",
      "source": [
        "#sets\n",
        "sets are mutable\n",
        "\n",
        "collection of unique elements,by repeating in input and the output only gets unique\n",
        "\n",
        "set doesn't take index"
      ],
      "metadata": {
        "id": "HmemCRbsaNez"
      }
    },
    {
      "cell_type": "code",
      "source": [
        "s={22,14,98,22}\n",
        "s"
      ],
      "metadata": {
        "colab": {
          "base_uri": "https://localhost:8080/"
        },
        "id": "BnnBH1Z9aMsE",
        "outputId": "e377e1af-d96d-4f30-f51f-ae263bd7d916"
      },
      "execution_count": null,
      "outputs": [
        {
          "output_type": "execute_result",
          "data": {
            "text/plain": [
              "{14, 22, 98}"
            ]
          },
          "metadata": {},
          "execution_count": 89
        }
      ]
    },
    {
      "cell_type": "code",
      "source": [
        "s[2]"
      ],
      "metadata": {
        "colab": {
          "base_uri": "https://localhost:8080/",
          "height": 165
        },
        "id": "dzw0WoeHbfmX",
        "outputId": "70dce6fd-4c1c-4d52-8663-f8a647838640"
      },
      "execution_count": null,
      "outputs": [
        {
          "output_type": "error",
          "ename": "TypeError",
          "evalue": "ignored",
          "traceback": [
            "\u001b[0;31m---------------------------------------------------------------------------\u001b[0m",
            "\u001b[0;31mTypeError\u001b[0m                                 Traceback (most recent call last)",
            "\u001b[0;32m<ipython-input-90-f70620bf1203>\u001b[0m in \u001b[0;36m<module>\u001b[0;34m\u001b[0m\n\u001b[0;32m----> 1\u001b[0;31m \u001b[0ms\u001b[0m\u001b[0;34m[\u001b[0m\u001b[0;36m2\u001b[0m\u001b[0;34m]\u001b[0m\u001b[0;34m\u001b[0m\u001b[0;34m\u001b[0m\u001b[0m\n\u001b[0m",
            "\u001b[0;31mTypeError\u001b[0m: 'set' object is not subscriptable"
          ]
        }
      ]
    },
    {
      "cell_type": "code",
      "source": [
        "fruits = {\"apple\", \"banana\", \"cherry\"}          #Adds an element to the set \n",
        "                                                #instead of append \"add\" should be done\n",
        "\n",
        "fruits.add(\"orange\")\n",
        "\n",
        "print(fruits)"
      ],
      "metadata": {
        "id": "3d1ELWmQXw2B",
        "outputId": "520be93e-0043-4747-8724-cc729e8af6e1",
        "colab": {
          "base_uri": "https://localhost:8080/"
        }
      },
      "execution_count": null,
      "outputs": [
        {
          "output_type": "stream",
          "name": "stdout",
          "text": [
            "{'cherry', 'apple', 'orange', 'banana'}\n"
          ]
        }
      ]
    },
    {
      "cell_type": "code",
      "source": [
        "x = {\"apple\", \"banana\", \"cherry\"}              #\tReturns a set containing the difference between two or more sets\n",
        "y = {\"google\", \"microsoft\", \"apple\"}\n",
        "\n",
        "z = x.difference(y)\n",
        "\n",
        "print(z)"
      ],
      "metadata": {
        "id": "Mfjz6uWiZfp8",
        "outputId": "e8e5b8a5-faba-41df-9815-00ce98c100d1",
        "colab": {
          "base_uri": "https://localhost:8080/"
        }
      },
      "execution_count": null,
      "outputs": [
        {
          "output_type": "stream",
          "name": "stdout",
          "text": [
            "{'cherry', 'banana'}\n"
          ]
        }
      ]
    },
    {
      "cell_type": "code",
      "source": [
        "x = {\"apple\", \"banana\", \"cherry\"}          #Returns a set, that is the intersection of two or more sets\n",
        "y = {\"google\", \"microsoft\", \"apple\"}\n",
        "\n",
        "z = x.intersection(y) \n",
        "\n",
        "print(z)\n"
      ],
      "metadata": {
        "id": "SQc2sGMjbkdy",
        "outputId": "13049e54-43d7-494b-8d54-4d7a4b4c36e3",
        "colab": {
          "base_uri": "https://localhost:8080/"
        }
      },
      "execution_count": null,
      "outputs": [
        {
          "output_type": "stream",
          "name": "stdout",
          "text": [
            "{'apple'}\n"
          ]
        }
      ]
    },
    {
      "cell_type": "code",
      "source": [
        "x = {\"apple\", \"banana\", \"cherry\"}                      #Returns whether two sets have a intersection or not\n",
        "y = {\"google\", \"microsoft\", \"facebook\"}\n",
        "\n",
        "z = x.isdisjoint(y) \n",
        "\n",
        "print(z)\n"
      ],
      "metadata": {
        "id": "toCNGfXJbxyZ",
        "outputId": "cc875e99-2034-4ca2-d38c-2ece3233c04c",
        "colab": {
          "base_uri": "https://localhost:8080/"
        }
      },
      "execution_count": null,
      "outputs": [
        {
          "output_type": "stream",
          "name": "stdout",
          "text": [
            "True\n"
          ]
        }
      ]
    },
    {
      "cell_type": "code",
      "source": [
        "x = {\"a\", \"b\", \"c\"}                 #\tReturns whether another set contains this set or not\n",
        "y = {\"f\", \"e\", \"d\", \"c\", \"b\", \"a\"}\n",
        "\n",
        "z = x.issubset(y)\n",
        "\n",
        "print(z)"
      ],
      "metadata": {
        "id": "3FKVwxJlcmdG",
        "outputId": "85adac29-d3bc-47ff-a84d-4b546365cc1e",
        "colab": {
          "base_uri": "https://localhost:8080/"
        }
      },
      "execution_count": null,
      "outputs": [
        {
          "output_type": "stream",
          "name": "stdout",
          "text": [
            "True\n"
          ]
        }
      ]
    },
    {
      "cell_type": "code",
      "source": [
        "x = {\"f\", \"e\", \"d\", \"c\", \"b\", \"a\"}                 #Returns whether this set contains another set or not\n",
        "y = {\"a\", \"b\", \"c\"}\n",
        "\n",
        "z = x.issuperset(y)\n",
        "\n",
        "print(z)"
      ],
      "metadata": {
        "id": "EmNy5W2lc0_5",
        "outputId": "383daca3-8121-4975-ca7f-0b7e9bcddbe2",
        "colab": {
          "base_uri": "https://localhost:8080/"
        }
      },
      "execution_count": null,
      "outputs": [
        {
          "output_type": "stream",
          "name": "stdout",
          "text": [
            "True\n"
          ]
        }
      ]
    },
    {
      "cell_type": "code",
      "source": [
        "x = {\"apple\", \"banana\", \"cherry\"}                           #Returns a set with the symmetric differences of two sets\n",
        "y = {\"google\", \"microsoft\", \"apple\"}\n",
        "\n",
        "z = x.symmetric_difference(y)\n",
        "\n",
        "print(z)"
      ],
      "metadata": {
        "id": "WHHEB0_QdKDJ",
        "outputId": "4774e879-011f-4d12-bc90-a161ce5c1478",
        "colab": {
          "base_uri": "https://localhost:8080/"
        }
      },
      "execution_count": null,
      "outputs": [
        {
          "output_type": "stream",
          "name": "stdout",
          "text": [
            "{'microsoft', 'google', 'banana', 'cherry'}\n"
          ]
        }
      ]
    },
    {
      "cell_type": "code",
      "source": [
        "x = {\"apple\", \"banana\", \"cherry\"}                          #Return a set containing the union of sets\n",
        "y = {\"google\", \"microsoft\", \"apple\"}\n",
        "\n",
        "z = x.union(y)\n",
        "\n",
        "print(z)"
      ],
      "metadata": {
        "id": "EjCS7oqmdOhM",
        "outputId": "08e86d2a-9725-4d8d-8208-ee945923fd9c",
        "colab": {
          "base_uri": "https://localhost:8080/"
        }
      },
      "execution_count": null,
      "outputs": [
        {
          "output_type": "stream",
          "name": "stdout",
          "text": [
            "{'microsoft', 'apple', 'google', 'banana', 'cherry'}\n"
          ]
        }
      ]
    },
    {
      "cell_type": "code",
      "source": [
        "x = {\"apple\", \"banana\", \"cherry\"}                       #Update the set with another set, or any other iterable\n",
        "y = {\"google\", \"microsoft\", \"apple\"}\n",
        "\n",
        "x.update(y)\n",
        "\n",
        "print(x)\n"
      ],
      "metadata": {
        "id": "QSEQ7kAVdhxX",
        "outputId": "ed28c998-1db3-49e1-8ff1-c86a36571077",
        "colab": {
          "base_uri": "https://localhost:8080/"
        }
      },
      "execution_count": null,
      "outputs": [
        {
          "output_type": "stream",
          "name": "stdout",
          "text": [
            "{'microsoft', 'apple', 'google', 'banana', 'cherry'}\n"
          ]
        }
      ]
    },
    {
      "cell_type": "markdown",
      "source": [
        "#set methods\n",
        "\n",
        "add()\tAdds an element to the set\n",
        "\n",
        "clear()\tRemoves all the elements from the set\n",
        "\n",
        "copy()\tReturns a copy of the set\n",
        "\n",
        "difference()\tReturns a set containing the difference between two or more sets\n",
        "\n",
        "difference_update()\tRemoves the items in this set that are also included in another, specified set\n",
        "\n",
        "discard()\tRemove the specified item\n",
        "\n",
        "intersection()\tReturns a set, that is the intersection of two or more sets\n",
        "\n",
        "intersection_update()\tRemoves the items in this set that are not present in other, specified set(s)\n",
        "\n",
        "isdisjoint()\tReturns whether two sets have a intersection or not\n",
        "\n",
        "issubset()\tReturns whether another set contains this set or not\n",
        "\n",
        "issuperset()\tReturns whether this set contains another set or not\n",
        "\n",
        "pop()\tRemoves an element from the set\n",
        "\n",
        "remove()\tRemoves the specified element\n",
        "\n",
        "symmetric_difference()\tReturns a set with the symmetric differences of two sets\n",
        "\n",
        "symmetric_difference_update()\tinserts the symmetric differences from this set and another\n",
        "\n",
        "union()\tReturn a set containing the union of sets\n",
        "\n",
        "update()\tUpdate the set with another set, or any other iterable\n"
      ],
      "metadata": {
        "id": "C2XUJslAf48v"
      }
    },
    {
      "cell_type": "markdown",
      "source": [
        "#dictionary \n",
        "\n",
        "dictionary are mutable\n",
        "\n",
        "which is the combination both keys and values\n",
        "\n"
      ],
      "metadata": {
        "id": "tqOaLRoHeUKJ"
      }
    },
    {
      "cell_type": "code",
      "source": [
        "d={'navin':'samsung','rahul':'iphone'}\n",
        "d"
      ],
      "metadata": {
        "id": "4eK59rBaelJ9",
        "outputId": "72bbb42e-e883-4723-da76-2c064aa50a32",
        "colab": {
          "base_uri": "https://localhost:8080/"
        }
      },
      "execution_count": null,
      "outputs": [
        {
          "output_type": "execute_result",
          "data": {
            "text/plain": [
              "{'navin': 'samsung', 'rahul': 'iphone'}"
            ]
          },
          "metadata": {},
          "execution_count": 23
        }
      ]
    },
    {
      "cell_type": "code",
      "source": [
        "d.keys()"
      ],
      "metadata": {
        "id": "_iSFSyege4Ag",
        "outputId": "33fdfd8a-dcb6-43f9-8d46-ea27fc4bb861",
        "colab": {
          "base_uri": "https://localhost:8080/"
        }
      },
      "execution_count": null,
      "outputs": [
        {
          "output_type": "execute_result",
          "data": {
            "text/plain": [
              "dict_keys(['navin', 'rahul'])"
            ]
          },
          "metadata": {},
          "execution_count": 24
        }
      ]
    },
    {
      "cell_type": "code",
      "source": [
        "d.values()"
      ],
      "metadata": {
        "id": "UiCPose2e8cU",
        "outputId": "311da96a-8cc9-4221-aa79-c89f1dd6bf4d",
        "colab": {
          "base_uri": "https://localhost:8080/"
        }
      },
      "execution_count": null,
      "outputs": [
        {
          "output_type": "execute_result",
          "data": {
            "text/plain": [
              "dict_values(['samsung', 'iphone'])"
            ]
          },
          "metadata": {},
          "execution_count": 25
        }
      ]
    },
    {
      "cell_type": "code",
      "source": [
        "d[\"rahul\"]"
      ],
      "metadata": {
        "id": "PYgGHpqXe_g5",
        "outputId": "5b313c6d-94c8-4812-92c1-e6b6ba49939b",
        "colab": {
          "base_uri": "https://localhost:8080/",
          "height": 36
        }
      },
      "execution_count": null,
      "outputs": [
        {
          "output_type": "execute_result",
          "data": {
            "text/plain": [
              "'iphone'"
            ],
            "application/vnd.google.colaboratory.intrinsic+json": {
              "type": "string"
            }
          },
          "metadata": {},
          "execution_count": 28
        }
      ]
    },
    {
      "cell_type": "code",
      "source": [
        "d[\"samsung\"]"
      ],
      "metadata": {
        "id": "8u6yPZ03fJm5",
        "outputId": "b994f59f-d815-4fcc-f625-cf0787f84e97",
        "colab": {
          "base_uri": "https://localhost:8080/",
          "height": 165
        }
      },
      "execution_count": null,
      "outputs": [
        {
          "output_type": "error",
          "ename": "KeyError",
          "evalue": "ignored",
          "traceback": [
            "\u001b[0;31m---------------------------------------------------------------------------\u001b[0m",
            "\u001b[0;31mKeyError\u001b[0m                                  Traceback (most recent call last)",
            "\u001b[0;32m<ipython-input-29-6121c1361e9f>\u001b[0m in \u001b[0;36m<module>\u001b[0;34m\u001b[0m\n\u001b[0;32m----> 1\u001b[0;31m \u001b[0md\u001b[0m\u001b[0;34m[\u001b[0m\u001b[0;34m\"samsung\"\u001b[0m\u001b[0;34m]\u001b[0m\u001b[0;34m\u001b[0m\u001b[0;34m\u001b[0m\u001b[0m\n\u001b[0m",
            "\u001b[0;31mKeyError\u001b[0m: 'samsung'"
          ]
        }
      ]
    },
    {
      "cell_type": "code",
      "source": [
        "x={\"name\":\"kiran\",\"talent\":[\"reading\",\"writing\"]}\n",
        "x[\"talent\"]"
      ],
      "metadata": {
        "id": "K91I5XWDk3JB",
        "outputId": "783a18db-1d60-4344-f89d-6a4d514c48ed",
        "colab": {
          "base_uri": "https://localhost:8080/"
        }
      },
      "execution_count": null,
      "outputs": [
        {
          "output_type": "execute_result",
          "data": {
            "text/plain": [
              "['reading', 'writing']"
            ]
          },
          "metadata": {},
          "execution_count": 32
        }
      ]
    },
    {
      "cell_type": "code",
      "source": [
        "print(x[\"talent\"][1])"
      ],
      "metadata": {
        "id": "Bthdk3g9luXE",
        "outputId": "c7c530b2-2bde-49c6-e719-cf207ada4895",
        "colab": {
          "base_uri": "https://localhost:8080/"
        }
      },
      "execution_count": null,
      "outputs": [
        {
          "output_type": "stream",
          "name": "stdout",
          "text": [
            "writing\n"
          ]
        }
      ]
    },
    {
      "cell_type": "markdown",
      "source": [
        "#dictionary methods\n",
        "\n",
        "clear()\tRemoves all the elements from the dictionary\n",
        "\n",
        "copy()\tReturns a copy of the dictionary\n",
        "\n",
        "fromkeys()\tReturns a dictionary with the specified keys and value\n",
        "\n",
        "get()\tReturns the value of the specified key\n",
        "\n",
        "items()\tReturns a list containing a tuple for each key value pair\n",
        "\n",
        "keys()\tReturns a list containing the dictionary's keys\n",
        "\n",
        "pop()\tRemoves the element with the specified key\n",
        "\n",
        "popitem()\tRemoves the last inserted key-value pair\n",
        "\n",
        "setdefault()\tReturns the value of the specified key. If the key does not \n",
        "exist: insert the key, with the specified value\n",
        "\n",
        "update()\tUpdates the dictionary with the specified key-value pairs\n",
        "\n",
        "values()\tReturns a list of all the values in the dictionary"
      ],
      "metadata": {
        "id": "mlBRQlcGfgBm"
      }
    },
    {
      "cell_type": "markdown",
      "source": [
        "#file handling"
      ],
      "metadata": {
        "id": "M7Q-nmmw1s8k"
      }
    },
    {
      "cell_type": "code",
      "source": [
        "x=open(\"/content/mydata.txt\",\"r\")     #the text file is from notepad\n",
        "print(x.read())\n",
        "x.close()"
      ],
      "metadata": {
        "id": "1K6Iyrqr05mz",
        "outputId": "bdc6c6e3-53b3-4434-b28a-313ffdf4d8cf",
        "colab": {
          "base_uri": "https://localhost:8080/"
        }
      },
      "execution_count": null,
      "outputs": [
        {
          "output_type": "stream",
          "name": "stdout",
          "text": [
            "srk college\n"
          ]
        }
      ]
    },
    {
      "cell_type": "code",
      "source": [
        "with open(\"/content/mydata.txt\",\"w\") as x:\n",
        "\n",
        "  x.write(\"srk college\")\n",
        "  \n",
        "  "
      ],
      "metadata": {
        "id": "uQvMwVVt1mkH"
      },
      "execution_count": null,
      "outputs": []
    },
    {
      "cell_type": "code",
      "source": [
        "x=open(\"/content/mydata.txt\",\"r\")     #the text file is from notepad\n",
        "print(x.read())"
      ],
      "metadata": {
        "id": "Z-fo0eOY3Iw6",
        "outputId": "a3e8352c-6df0-489f-cf14-7ff35a70f9b5",
        "colab": {
          "base_uri": "https://localhost:8080/"
        }
      },
      "execution_count": null,
      "outputs": [
        {
          "output_type": "stream",
          "name": "stdout",
          "text": [
            "srk college\n"
          ]
        }
      ]
    },
    {
      "cell_type": "markdown",
      "source": [
        "#if-else statements"
      ],
      "metadata": {
        "id": "-ufnL7aTIYT4"
      }
    },
    {
      "cell_type": "code",
      "source": [
        "if True:\n",
        "  print(\"i am right\")"
      ],
      "metadata": {
        "id": "mvMDFftE9ST0",
        "outputId": "13cda6ab-3df7-4108-f9f4-440dce432fd2",
        "colab": {
          "base_uri": "https://localhost:8080/"
        }
      },
      "execution_count": 1,
      "outputs": [
        {
          "output_type": "stream",
          "name": "stdout",
          "text": [
            "i am right\n"
          ]
        }
      ]
    },
    {
      "cell_type": "code",
      "source": [
        "if False:\n",
        "  print(\"i am right\")"
      ],
      "metadata": {
        "id": "uVotz5JR9j1K"
      },
      "execution_count": 6,
      "outputs": []
    },
    {
      "cell_type": "code",
      "source": [
        "if 1:                             #where 1 is True\n",
        "  print(\"i am right\")"
      ],
      "metadata": {
        "id": "6xo9Mz0w-IZV",
        "outputId": "cad1196d-a2b7-4589-f7d9-b9211f80662f",
        "colab": {
          "base_uri": "https://localhost:8080/"
        }
      },
      "execution_count": 8,
      "outputs": [
        {
          "output_type": "stream",
          "name": "stdout",
          "text": [
            "i am right\n"
          ]
        }
      ]
    },
    {
      "cell_type": "code",
      "source": [
        "if 0:                             #where 0 is False\n",
        "  print(\"i am right\")"
      ],
      "metadata": {
        "id": "I2Gd9-JJ-QV5"
      },
      "execution_count": 9,
      "outputs": []
    },
    {
      "cell_type": "code",
      "source": [
        "x=9\n",
        "r=x%2\n",
        "if r==1:\n",
        "  print(\"odd\")\n",
        "print(\"bye\")"
      ],
      "metadata": {
        "id": "hyhB71JC-g3a",
        "outputId": "51bc778e-dbcc-4dba-d79d-6e45850e1fad",
        "colab": {
          "base_uri": "https://localhost:8080/"
        }
      },
      "execution_count": 10,
      "outputs": [
        {
          "output_type": "stream",
          "name": "stdout",
          "text": [
            "odd\n",
            "bye\n"
          ]
        }
      ]
    },
    {
      "cell_type": "code",
      "source": [
        "x=8\n",
        "r=x%2\n",
        "if r==0:\n",
        "  print(\"even\")\n",
        "if x>=6:\n",
        "  print(\"number is high\")\n",
        "else:\n",
        "  print(\"not much big\")\n",
        "print(\"bye\")"
      ],
      "metadata": {
        "id": "eaoGldAm-44M",
        "outputId": "3ae83b26-397f-4591-879e-fc4c54789477",
        "colab": {
          "base_uri": "https://localhost:8080/"
        }
      },
      "execution_count": 11,
      "outputs": [
        {
          "output_type": "stream",
          "name": "stdout",
          "text": [
            "even\n",
            "number is high\n",
            "bye\n"
          ]
        }
      ]
    },
    {
      "cell_type": "code",
      "source": [
        "x=2\n",
        "if(x==1):\n",
        "  print(\"one\")\n",
        "elif(x==2):\n",
        "  print(\"two\")\n",
        "elif(x==3):\n",
        "  print(\"three\")\n",
        "else:\n",
        "  print(\"not found\")\n",
        "print(\"bye\")"
      ],
      "metadata": {
        "id": "7RmuWRG4Amm3",
        "outputId": "7a65d594-1d8b-4498-eaa4-cd080c8894e4",
        "colab": {
          "base_uri": "https://localhost:8080/"
        }
      },
      "execution_count": 12,
      "outputs": [
        {
          "output_type": "stream",
          "name": "stdout",
          "text": [
            "two\n",
            "bye\n"
          ]
        }
      ]
    },
    {
      "cell_type": "markdown",
      "source": [
        "#while loop"
      ],
      "metadata": {
        "id": "6t2_Jc7DIpmF"
      }
    },
    {
      "cell_type": "code",
      "source": [
        "i=1\n",
        "while(i<=5):\n",
        "   print(\"telusko\")\n",
        "   i=i+1"
      ],
      "metadata": {
        "id": "O5H2I76CBHl8",
        "outputId": "03b745bd-b37a-4d9c-efb0-e076eb052ffc",
        "colab": {
          "base_uri": "https://localhost:8080/"
        }
      },
      "execution_count": 19,
      "outputs": [
        {
          "output_type": "stream",
          "name": "stdout",
          "text": [
            "telusko\n",
            "telusko\n",
            "telusko\n",
            "telusko\n",
            "telusko\n"
          ]
        }
      ]
    },
    {
      "cell_type": "code",
      "source": [
        "i=5\n",
        "j=1\n",
        "while(i>=1):\n",
        "  print(\"telusko\")\n",
        "  while j<=4:\n",
        "    print(\"rocks\")\n",
        "    j=j+1\n",
        "  i=i-1"
      ],
      "metadata": {
        "id": "7qFdTcIsEIiJ",
        "outputId": "eadae963-b3fe-4639-d729-4e8a7c49ba97",
        "colab": {
          "base_uri": "https://localhost:8080/"
        }
      },
      "execution_count": 23,
      "outputs": [
        {
          "output_type": "stream",
          "name": "stdout",
          "text": [
            "telusko\n",
            "rocks\n",
            "rocks\n",
            "rocks\n",
            "rocks\n",
            "telusko\n",
            "telusko\n",
            "telusko\n",
            "telusko\n"
          ]
        }
      ]
    },
    {
      "cell_type": "markdown",
      "source": [
        "#for loop"
      ],
      "metadata": {
        "id": "O39kDgfFItfW"
      }
    },
    {
      "cell_type": "code",
      "source": [
        "x=\"navin\"\n",
        "for i in x:\n",
        "  print(i)\n",
        "  "
      ],
      "metadata": {
        "id": "r6CE6P1DGBKO",
        "outputId": "1768acd0-d72c-4760-ebfd-71a608ffbeb3",
        "colab": {
          "base_uri": "https://localhost:8080/"
        }
      },
      "execution_count": 24,
      "outputs": [
        {
          "output_type": "stream",
          "name": "stdout",
          "text": [
            "n\n",
            "a\n",
            "v\n",
            "i\n",
            "n\n"
          ]
        }
      ]
    },
    {
      "cell_type": "code",
      "source": [
        "for i in range(10):\n",
        "  print(i)"
      ],
      "metadata": {
        "id": "SuCnTaR-Gxh2",
        "outputId": "76e2630f-f03e-46d2-92e7-b3e04dcd557b",
        "colab": {
          "base_uri": "https://localhost:8080/"
        }
      },
      "execution_count": 25,
      "outputs": [
        {
          "output_type": "stream",
          "name": "stdout",
          "text": [
            "0\n",
            "1\n",
            "2\n",
            "3\n",
            "4\n",
            "5\n",
            "6\n",
            "7\n",
            "8\n",
            "9\n"
          ]
        }
      ]
    },
    {
      "cell_type": "code",
      "source": [
        "for i in range(11,20,1):              #(start,stop,i=i+1)\n",
        "  print(i)"
      ],
      "metadata": {
        "id": "55HaLPrhG4lJ",
        "outputId": "a7ab2eb5-aa4a-49c3-c280-258b26cab9bc",
        "colab": {
          "base_uri": "https://localhost:8080/"
        }
      },
      "execution_count": 26,
      "outputs": [
        {
          "output_type": "stream",
          "name": "stdout",
          "text": [
            "11\n",
            "12\n",
            "13\n",
            "14\n",
            "15\n",
            "16\n",
            "17\n",
            "18\n",
            "19\n"
          ]
        }
      ]
    },
    {
      "cell_type": "code",
      "source": [
        "for i in range(41,20,-2):              #(start,stop,i=i-2)\n",
        "  print(i)"
      ],
      "metadata": {
        "id": "bWJmOHbnHBZa",
        "outputId": "31e843da-0740-43ba-e1ee-bf6559e0f88b",
        "colab": {
          "base_uri": "https://localhost:8080/"
        }
      },
      "execution_count": 28,
      "outputs": [
        {
          "output_type": "stream",
          "name": "stdout",
          "text": [
            "41\n",
            "39\n",
            "37\n",
            "35\n",
            "33\n",
            "31\n",
            "29\n",
            "27\n",
            "25\n",
            "23\n",
            "21\n"
          ]
        }
      ]
    },
    {
      "cell_type": "code",
      "source": [
        "for i in range(1,20):\n",
        "  if(i%5!=0):\n",
        "    print(i)"
      ],
      "metadata": {
        "id": "mwMRvVA-HeY3",
        "outputId": "474ecdbc-e9e0-4b7a-9948-beb5b7376f44",
        "colab": {
          "base_uri": "https://localhost:8080/"
        }
      },
      "execution_count": 29,
      "outputs": [
        {
          "output_type": "stream",
          "name": "stdout",
          "text": [
            "1\n",
            "2\n",
            "3\n",
            "4\n",
            "6\n",
            "7\n",
            "8\n",
            "9\n",
            "11\n",
            "12\n",
            "13\n",
            "14\n",
            "16\n",
            "17\n",
            "18\n",
            "19\n"
          ]
        }
      ]
    },
    {
      "cell_type": "markdown",
      "source": [
        "#break statement"
      ],
      "metadata": {
        "id": "ieY7qGEGKy-K"
      }
    },
    {
      "cell_type": "code",
      "source": [
        "av=5\n",
        "x=int(input(\"how many candies you want\"))\n",
        "i=1\n",
        "while i<=x:\n",
        "  if i>av:\n",
        "    print(\"out of stock\")\n",
        "    break\n",
        "    print(\"candy\")\n",
        "    i++\n",
        "  print(\"bye\")"
      ],
      "metadata": {
        "id": "srIL0ZGYK2Jp",
        "outputId": "efce6b6e-e11c-44f3-9d88-ede4596a8c60",
        "colab": {
          "base_uri": "https://localhost:8080/",
          "height": 130
        }
      },
      "execution_count": 30,
      "outputs": [
        {
          "output_type": "error",
          "ename": "SyntaxError",
          "evalue": "ignored",
          "traceback": [
            "\u001b[0;36m  File \u001b[0;32m\"<ipython-input-30-df5b995168c1>\"\u001b[0;36m, line \u001b[0;32m9\u001b[0m\n\u001b[0;31m    i++\u001b[0m\n\u001b[0m       ^\u001b[0m\n\u001b[0;31mSyntaxError\u001b[0m\u001b[0;31m:\u001b[0m invalid syntax\n"
          ]
        }
      ]
    }
  ]
}