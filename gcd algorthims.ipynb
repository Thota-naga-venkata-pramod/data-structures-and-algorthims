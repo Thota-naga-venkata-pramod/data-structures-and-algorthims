{
  "nbformat": 4,
  "nbformat_minor": 0,
  "metadata": {
    "colab": {
      "provenance": [],
      "authorship_tag": "ABX9TyOYhFReXsTBJ3xKmQCUNyzw",
      "include_colab_link": true
    },
    "kernelspec": {
      "name": "python3",
      "display_name": "Python 3"
    },
    "language_info": {
      "name": "python"
    }
  },
  "cells": [
    {
      "cell_type": "markdown",
      "metadata": {
        "id": "view-in-github",
        "colab_type": "text"
      },
      "source": [
        "<a href=\"https://colab.research.google.com/github/Thota-naga-venkata-pramod/data-structures-and-algorthims/blob/me/gcd%20algorthims.ipynb\" target=\"_parent\"><img src=\"https://colab.research.google.com/assets/colab-badge.svg\" alt=\"Open In Colab\"/></a>"
      ]
    },
    {
      "cell_type": "markdown",
      "source": [
        "#gcd(greatest commom divisor)\n",
        "ex:-m=7\n",
        "    n=5\n",
        "\n",
        "    m has factors 1,7\n",
        "\n",
        "    n has factors 1,5\n",
        "\n",
        "    common factors in both are 1"
      ],
      "metadata": {
        "id": "hPSugn896GO4"
      }
    },
    {
      "cell_type": "markdown",
      "source": [
        "#first way to represent gcd"
      ],
      "metadata": {
        "id": "MM9cyDJ6_kwg"
      }
    },
    {
      "cell_type": "code",
      "source": [
        "def gcd(m,n):\n",
        "  fm=[]                           #factors of m\n",
        "  for i in range (1,m+1):\n",
        "    if m%i==0:\n",
        "      fm.append(i)\n",
        "  print(fm)\n",
        "  fn=[]                           #factors of n\n",
        "  for j in range(1,n+1):\n",
        "    if n%j==0:\n",
        "      fn.append(j)\n",
        "  print(fn)\n",
        "  cf=[]                            #common factors\n",
        "  for f in fm:\n",
        "    if f in fn:\n",
        "      cf.append(f)\n",
        "  print(cf[-1])\n",
        "gcd(28,7)       "
      ],
      "metadata": {
        "colab": {
          "base_uri": "https://localhost:8080/"
        },
        "id": "d9BWstmT5AmR",
        "outputId": "ad0c5891-b407-41ec-9cb8-755009c14e71"
      },
      "execution_count": 48,
      "outputs": [
        {
          "output_type": "stream",
          "name": "stdout",
          "text": [
            "[1, 2, 4, 7, 14, 28]\n",
            "[1, 7]\n",
            "7\n"
          ]
        }
      ]
    },
    {
      "cell_type": "markdown",
      "source": [
        "#second way to represent gcd"
      ],
      "metadata": {
        "id": "PPRzk7Nn_rUB"
      }
    },
    {
      "cell_type": "code",
      "source": [
        "def gcd(m,n):\n",
        "  cf=[]\n",
        "  for i in range(1,max(m,n)+1):         #here we can write any function min or max\n",
        "    if m%i==0 and n%i==0:\n",
        "      cf.append(i)\n",
        "  return(cf[-1])                       #here the -1 denotes last element means the highest element if last 2th element means cf[-2]\n",
        "gcd(14,11)                                                                                            "
      ],
      "metadata": {
        "colab": {
          "base_uri": "https://localhost:8080/"
        },
        "id": "4OCsrW3M9HSO",
        "outputId": "371b682a-7481-4001-9483-19dfed40be4d"
      },
      "execution_count": 47,
      "outputs": [
        {
          "output_type": "execute_result",
          "data": {
            "text/plain": [
              "1"
            ]
          },
          "metadata": {},
          "execution_count": 47
        }
      ]
    },
    {
      "cell_type": "markdown",
      "source": [
        "#third way to describe gcd"
      ],
      "metadata": {
        "id": "9_ZzGVfqA5_2"
      }
    },
    {
      "cell_type": "code",
      "source": [
        "def gcd(m,n):\n",
        "  cf=[]\n",
        "  for i in range(1,max(m,n)+1):         #here we can write any function min or max\n",
        "    if m%i==0 and n%i==0:\n",
        "      x=i                            #here we don't need to take list the i is updated for every iteration \n",
        "  return(x)                      \n",
        "gcd(33,11)    "
      ],
      "metadata": {
        "colab": {
          "base_uri": "https://localhost:8080/"
        },
        "id": "I8hIiIDEAP2Y",
        "outputId": "13cf7ec1-4361-4053-fda9-3b853c1424b6"
      },
      "execution_count": 51,
      "outputs": [
        {
          "output_type": "execute_result",
          "data": {
            "text/plain": [
              "11"
            ]
          },
          "metadata": {},
          "execution_count": 51
        }
      ]
    },
    {
      "cell_type": "markdown",
      "source": [
        "#forth way to describe gcd"
      ],
      "metadata": {
        "id": "ufGCoBmWC_cE"
      }
    },
    {
      "cell_type": "code",
      "source": [
        "from re import I\n",
        "def gcd(m,n):\n",
        "  i=min(m,n)             #here we can write any function min or max\n",
        "  while i>0:\n",
        "    if m%i==0 and n%i==0:\n",
        "      return i\n",
        "    else:\n",
        "      i=i-1\n",
        "gcd(34,56)"
      ],
      "metadata": {
        "colab": {
          "base_uri": "https://localhost:8080/"
        },
        "id": "yVEdoTYuBRrn",
        "outputId": "e0c87732-d7f6-4edb-d3bc-10f04cd51605"
      },
      "execution_count": 59,
      "outputs": [
        {
          "output_type": "execute_result",
          "data": {
            "text/plain": [
              "2"
            ]
          },
          "metadata": {},
          "execution_count": 59
        }
      ]
    }
  ]
}