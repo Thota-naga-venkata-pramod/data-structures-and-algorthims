{
  "nbformat": 4,
  "nbformat_minor": 0,
  "metadata": {
    "colab": {
      "provenance": [],
      "authorship_tag": "ABX9TyMza7aNI1aaQR6q8Lc73zBj",
      "include_colab_link": true
    },
    "kernelspec": {
      "name": "python3",
      "display_name": "Python 3"
    },
    "language_info": {
      "name": "python"
    }
  },
  "cells": [
    {
      "cell_type": "markdown",
      "metadata": {
        "id": "view-in-github",
        "colab_type": "text"
      },
      "source": [
        "<a href=\"https://colab.research.google.com/github/Thota-naga-venkata-pramod/data-structures-and-algorthims/blob/me/unsorted%20case.ipynb\" target=\"_parent\"><img src=\"https://colab.research.google.com/assets/colab-badge.svg\" alt=\"Open In Colab\"/></a>"
      ]
    },
    {
      "cell_type": "markdown",
      "source": [
        "#unsorted case"
      ],
      "metadata": {
        "id": "zB94iMzEHXGg"
      }
    },
    {
      "cell_type": "code",
      "execution_count": 5,
      "metadata": {
        "colab": {
          "base_uri": "https://localhost:8080/"
        },
        "id": "zi9oW6avGlIO",
        "outputId": "298c9079-3839-4efe-c31d-62052c7155fe"
      },
      "outputs": [
        {
          "output_type": "execute_result",
          "data": {
            "text/plain": [
              "True"
            ]
          },
          "metadata": {},
          "execution_count": 5
        }
      ],
      "source": [
        "a=[34,45,65,55,97,24,155]\n",
        "def search(seq,v):           #  where v is search element\n",
        "  for x in seq:\n",
        "    if x==v:\n",
        "      return True\n",
        "  return False\n",
        "search(a,55)  \n"
      ]
    },
    {
      "cell_type": "markdown",
      "source": [
        "this is a worst case because of:\n",
        "\n",
        "1)need to scan the entire sequence seq\n",
        "\n",
        "2)time proportional to length of sequence\n",
        "\n",
        "3)does not matter if seq is array or list"
      ],
      "metadata": {
        "id": "xrd1NT8CHatR"
      }
    }
  ]
}