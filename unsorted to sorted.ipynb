{
  "nbformat": 4,
  "nbformat_minor": 0,
  "metadata": {
    "colab": {
      "provenance": [],
      "authorship_tag": "ABX9TyO4W/c8Es92V7C+E0gY3s2k",
      "include_colab_link": true
    },
    "kernelspec": {
      "name": "python3",
      "display_name": "Python 3"
    },
    "language_info": {
      "name": "python"
    }
  },
  "cells": [
    {
      "cell_type": "markdown",
      "metadata": {
        "id": "view-in-github",
        "colab_type": "text"
      },
      "source": [
        "<a href=\"https://colab.research.google.com/github/Thota-naga-venkata-pramod/data-structures-and-algorthims/blob/me/unsorted%20to%20sorted.ipynb\" target=\"_parent\"><img src=\"https://colab.research.google.com/assets/colab-badge.svg\" alt=\"Open In Colab\"/></a>"
      ]
    },
    {
      "cell_type": "markdown",
      "source": [
        "#algorthim for changing unsorted array to sorted array\n",
        "\n",
        "\n",
        "STEP 1: Declare and initialize an array.\n",
        "\n",
        "STEP 2: Loop through the array and select an element.\n",
        "\n",
        "STEP 3: The inner loop will be used to compare the selected element from the outer loop with the rest of the elements of the array.\n",
        "\n",
        "STEP 4: If any element is less than the selected element then swap the values.\n",
        "\n",
        "STEP 5: Continue this process till entire array is sorted in ascending order."
      ],
      "metadata": {
        "id": "fpg5Ul3U4rsw"
      }
    },
    {
      "cell_type": "code",
      "source": [
        "#Initialize array     \n",
        "arr = [5, 2, 8, 7, 1];     \n",
        "temp = 0;    \n",
        "     \n",
        "#Displaying elements of original array    \n",
        "print(\"Elements of original array: \");    \n",
        "for i in range(0, len(arr)):    \n",
        "    print(arr[i], end=\" \");    \n",
        "     \n",
        "#Sort the array in ascending order    \n",
        "for i in range(0, len(arr)):    \n",
        "    for j in range(i+1, len(arr)):    \n",
        "        if(arr[i] > arr[j]):    \n",
        "            temp = arr[i];    \n",
        "            arr[i] = arr[j];    \n",
        "            arr[j] = temp;    \n",
        "     \n",
        "print();    \n",
        "     \n",
        "#Displaying elements of the array after sorting    \n",
        "    \n",
        "print(\"Elements of array sorted in ascending order: \");    \n",
        "for i in range(0, len(arr)):    \n",
        "    print(arr[i], end=\" \");    "
      ],
      "metadata": {
        "colab": {
          "base_uri": "https://localhost:8080/"
        },
        "id": "IJ4QpcSX5ETG",
        "outputId": "4547c5bc-8240-49d3-c8c1-2e1680d82383"
      },
      "execution_count": 1,
      "outputs": [
        {
          "output_type": "stream",
          "name": "stdout",
          "text": [
            "Elements of original array: \n",
            "5 2 8 7 1 \n",
            "Elements of array sorted in ascending order: \n",
            "1 2 5 7 8 "
          ]
        }
      ]
    },
    {
      "cell_type": "markdown",
      "source": [
        "#for unsorted list to sorted list\n",
        "\n",
        "list.sort()"
      ],
      "metadata": {
        "id": "jLcQHUNM5QMX"
      }
    }
  ]
}